{
 "cells": [
  {
   "cell_type": "markdown",
   "metadata": {
    "collapsed": true
   },
   "source": [
    "# Introduction/Business Problem"
   ]
  },
  {
   "cell_type": "markdown",
   "metadata": {},
   "source": [
    "## Problem Statement\n",
    "Tokyo is a city that is booming with people and prospective businesses. There are a lot of workers, tourists and residents who need to eat in the top 5 busiest neighbourhoods in Toyko. It would make sense for a cafe to open, but we want to know where would be the best neighborhood to open a restaurant through understanding benefits and hinderance of opening a restaurant in these neighborhoods.\n",
    "\n",
    "We will be looking specifically at how much the place would cost to determine if it is a good location.  A good profit for a cafe to make would be about a 20% or above profit. "
   ]
  },
  {
   "cell_type": "markdown",
   "metadata": {},
   "source": [
    "## Target Audience "
   ]
  },
  {
   "cell_type": "markdown",
   "metadata": {},
   "source": [
    "People who would be interested in understanding the results from our analysis include people who would like to open a cafe, tourists, office workers, locals or students in the area. These people will get the most benefit from this data. Business owners will get the most money and understand the pros or cons of the area and customers will be able to have a new cafe that is close to them."
   ]
  },
  {
   "cell_type": "markdown",
   "metadata": {},
   "source": [
    "# Data"
   ]
  },
  {
   "cell_type": "markdown",
   "metadata": {},
   "source": [
    "This data is used in order to find the top 5 cities with their relating population and area. From there we can continue to week 2 and find out more information. The source of this data is from wikipedia. "
   ]
  },
  {
   "cell_type": "code",
   "execution_count": 1,
   "metadata": {},
   "outputs": [
    {
     "name": "stdout",
     "output_type": "stream",
     "text": [
      "Collecting folium\n",
      "\u001b[?25l  Downloading https://files.pythonhosted.org/packages/72/ff/004bfe344150a064e558cb2aedeaa02ecbf75e60e148a55a9198f0c41765/folium-0.10.0-py2.py3-none-any.whl (91kB)\n",
      "\u001b[K     |████████████████████████████████| 92kB 15.9MB/s eta 0:00:01\n",
      "\u001b[?25hCollecting branca>=0.3.0 (from folium)\n",
      "  Downloading https://files.pythonhosted.org/packages/63/36/1c93318e9653f4e414a2e0c3b98fc898b4970e939afeedeee6075dd3b703/branca-0.3.1-py3-none-any.whl\n",
      "Requirement already satisfied: requests in /opt/conda/envs/Python36/lib/python3.6/site-packages (from folium) (2.21.0)\n",
      "Requirement already satisfied: jinja2>=2.9 in /opt/conda/envs/Python36/lib/python3.6/site-packages (from folium) (2.10)\n",
      "Requirement already satisfied: numpy in /opt/conda/envs/Python36/lib/python3.6/site-packages (from folium) (1.15.4)\n",
      "Requirement already satisfied: six in /opt/conda/envs/Python36/lib/python3.6/site-packages (from branca>=0.3.0->folium) (1.12.0)\n",
      "Requirement already satisfied: urllib3<1.25,>=1.21.1 in /opt/conda/envs/Python36/lib/python3.6/site-packages (from requests->folium) (1.24.1)\n",
      "Requirement already satisfied: certifi>=2017.4.17 in /opt/conda/envs/Python36/lib/python3.6/site-packages (from requests->folium) (2019.6.16)\n",
      "Requirement already satisfied: idna<2.9,>=2.5 in /opt/conda/envs/Python36/lib/python3.6/site-packages (from requests->folium) (2.8)\n",
      "Requirement already satisfied: chardet<3.1.0,>=3.0.2 in /opt/conda/envs/Python36/lib/python3.6/site-packages (from requests->folium) (3.0.4)\n",
      "Requirement already satisfied: MarkupSafe>=0.23 in /opt/conda/envs/Python36/lib/python3.6/site-packages (from jinja2>=2.9->folium) (1.1.0)\n",
      "Installing collected packages: branca, folium\n",
      "Successfully installed branca-0.3.1 folium-0.10.0\n"
     ]
    }
   ],
   "source": [
    "import requests\n",
    "from bs4 import BeautifulSoup\n",
    "import pandas as pd\n",
    "import numpy as np\n",
    "import json\n",
    "from pandas.io.json import json_normalize\n",
    "\n",
    "!pip install folium\n",
    "import folium\n",
    "from geopy.geocoders import Nominatim\n",
    "import requests"
   ]
  },
  {
   "cell_type": "code",
   "execution_count": 28,
   "metadata": {},
   "outputs": [
    {
     "name": "stdout",
     "output_type": "stream",
     "text": [
      "Requirement already satisfied: geopy in /opt/conda/envs/Python36/lib/python3.6/site-packages (1.18.1)\n",
      "Requirement already satisfied: geographiclib<2,>=1.49 in /opt/conda/envs/Python36/lib/python3.6/site-packages (from geopy) (1.49)\n"
     ]
    }
   ],
   "source": [
    "!pip install geopy"
   ]
  },
  {
   "cell_type": "markdown",
   "metadata": {},
   "source": [
    "### Scraping wiki cities"
   ]
  },
  {
   "cell_type": "code",
   "execution_count": 2,
   "metadata": {},
   "outputs": [
    {
     "name": "stdout",
     "output_type": "stream",
     "text": [
      "       Name  Population(as of October 2016  Area(km2)\n",
      "0   Chiyoda                          59441      11.66\n",
      "1      Chūō                         147620      10.21\n",
      "2    Minato                         248071      20.37\n",
      "3  Shinjuku                         339211      18.22\n",
      "4    Bunkyō                         223389      11.29\n"
     ]
    }
   ],
   "source": [
    "df_wiki=pd.read_html('https://en.wikipedia.org/wiki/Special_wards_of_Tokyo')[3]\n",
    "dfwiki=df_wiki.drop(columns=['No.','Flag','Kanji','Density(/km2)','Major districts'],axis=1)\n",
    "dfwik=dfwiki.iloc[0:5]\n",
    "print(dfwik)"
   ]
  },
  {
   "cell_type": "code",
   "execution_count": 3,
   "metadata": {
    "scrolled": true
   },
   "outputs": [
    {
     "name": "stdout",
     "output_type": "stream",
     "text": [
      "Collecting googlemaps\n",
      "  Downloading https://files.pythonhosted.org/packages/e8/0c/5f84b84b1b73c4710fe0b9fa062f5afe873013c7a2f2141127fd1939359c/googlemaps-3.1.1-py3-none-any.whl\n",
      "Requirement already satisfied, skipping upgrade: requests<3.0,>=2.20.0 in /opt/conda/envs/Python36/lib/python3.6/site-packages (from googlemaps) (2.21.0)\n",
      "Requirement already satisfied, skipping upgrade: idna<2.9,>=2.5 in /opt/conda/envs/Python36/lib/python3.6/site-packages (from requests<3.0,>=2.20.0->googlemaps) (2.8)\n",
      "Requirement already satisfied, skipping upgrade: chardet<3.1.0,>=3.0.2 in /opt/conda/envs/Python36/lib/python3.6/site-packages (from requests<3.0,>=2.20.0->googlemaps) (3.0.4)\n",
      "Requirement already satisfied, skipping upgrade: certifi>=2017.4.17 in /opt/conda/envs/Python36/lib/python3.6/site-packages (from requests<3.0,>=2.20.0->googlemaps) (2019.6.16)\n",
      "Requirement already satisfied, skipping upgrade: urllib3<1.25,>=1.21.1 in /opt/conda/envs/Python36/lib/python3.6/site-packages (from requests<3.0,>=2.20.0->googlemaps) (1.24.1)\n",
      "Installing collected packages: googlemaps\n",
      "Successfully installed googlemaps-3.1.1\n"
     ]
    }
   ],
   "source": [
    "! pip install -U googlemaps"
   ]
  },
  {
   "cell_type": "markdown",
   "metadata": {},
   "source": [
    "### Finding latitude and longitude of cities."
   ]
  },
  {
   "cell_type": "code",
   "execution_count": 4,
   "metadata": {},
   "outputs": [
    {
     "name": "stdout",
     "output_type": "stream",
     "text": [
      "(35.6938097, 139.7532163)\n"
     ]
    }
   ],
   "source": [
    "from geopy.geocoders import Nominatim\n",
    "geolocator = Nominatim(user_agent=\"python\")\n",
    "location = geolocator.geocode(\"Chiyoda\")\n",
    "print((location.latitude, location.longitude))"
   ]
  },
  {
   "cell_type": "code",
   "execution_count": 31,
   "metadata": {},
   "outputs": [
    {
     "name": "stdout",
     "output_type": "stream",
     "text": [
      "(35.666255, 139.775565)\n"
     ]
    }
   ],
   "source": [
    "from geopy.geocoders import Nominatim\n",
    "geolocator = Nominatim(user_agent=\"python\")\n",
    "location = geolocator.geocode(\"Chūō\")\n",
    "print((location.latitude, location.longitude))"
   ]
  },
  {
   "cell_type": "code",
   "execution_count": 33,
   "metadata": {},
   "outputs": [
    {
     "name": "stdout",
     "output_type": "stream",
     "text": [
      "(35.6432274, 139.7400553)\n"
     ]
    }
   ],
   "source": [
    "from geopy.geocoders import Nominatim\n",
    "geolocator = Nominatim(user_agent=\"python\")\n",
    "location = geolocator.geocode(\"Minato\")\n",
    "print((location.latitude, location.longitude))"
   ]
  },
  {
   "cell_type": "code",
   "execution_count": 34,
   "metadata": {},
   "outputs": [
    {
     "name": "stdout",
     "output_type": "stream",
     "text": [
      "(35.6937632, 139.7036319)\n"
     ]
    }
   ],
   "source": [
    "from geopy.geocoders import Nominatim\n",
    "geolocator = Nominatim(user_agent=\"python\")\n",
    "location = geolocator.geocode(\"Shinjuku\")\n",
    "print((location.latitude, location.longitude))"
   ]
  },
  {
   "cell_type": "code",
   "execution_count": 35,
   "metadata": {},
   "outputs": [
    {
     "name": "stdout",
     "output_type": "stream",
     "text": [
      "(35.71881, 139.744732)\n"
     ]
    }
   ],
   "source": [
    "from geopy.geocoders import Nominatim\n",
    "geolocator = Nominatim(user_agent=\"python\")\n",
    "location = geolocator.geocode(\"Bunkyō\")\n",
    "print((location.latitude, location.longitude))"
   ]
  },
  {
   "cell_type": "markdown",
   "metadata": {},
   "source": [
    "### Table of cities with corresponding latitude and longitude"
   ]
  },
  {
   "cell_type": "code",
   "execution_count": 29,
   "metadata": {},
   "outputs": [
    {
     "data": {
      "text/html": [
       "<div>\n",
       "<style scoped>\n",
       "    .dataframe tbody tr th:only-of-type {\n",
       "        vertical-align: middle;\n",
       "    }\n",
       "\n",
       "    .dataframe tbody tr th {\n",
       "        vertical-align: top;\n",
       "    }\n",
       "\n",
       "    .dataframe thead th {\n",
       "        text-align: right;\n",
       "    }\n",
       "</style>\n",
       "<table border=\"1\" class=\"dataframe\">\n",
       "  <thead>\n",
       "    <tr style=\"text-align: right;\">\n",
       "      <th></th>\n",
       "      <th>Name</th>\n",
       "      <th>Latitude</th>\n",
       "      <th>Longitude</th>\n",
       "    </tr>\n",
       "  </thead>\n",
       "  <tbody>\n",
       "    <tr>\n",
       "      <th>0</th>\n",
       "      <td>Chiyoda</td>\n",
       "      <td>35.6938097</td>\n",
       "      <td>139.7532163</td>\n",
       "    </tr>\n",
       "    <tr>\n",
       "      <th>1</th>\n",
       "      <td>Chūō</td>\n",
       "      <td>35.666255</td>\n",
       "      <td>139.775565</td>\n",
       "    </tr>\n",
       "    <tr>\n",
       "      <th>2</th>\n",
       "      <td>Minato</td>\n",
       "      <td>35.6432274</td>\n",
       "      <td>139.7400553</td>\n",
       "    </tr>\n",
       "    <tr>\n",
       "      <th>3</th>\n",
       "      <td>Shinjuku</td>\n",
       "      <td>35.6937632</td>\n",
       "      <td>139.7036319</td>\n",
       "    </tr>\n",
       "    <tr>\n",
       "      <th>4</th>\n",
       "      <td>Bunkyō</td>\n",
       "      <td>35.71881</td>\n",
       "      <td>139.744732</td>\n",
       "    </tr>\n",
       "  </tbody>\n",
       "</table>\n",
       "</div>"
      ],
      "text/plain": [
       "       Name    Latitude    Longitude\n",
       "0   Chiyoda  35.6938097  139.7532163\n",
       "1      Chūō   35.666255   139.775565\n",
       "2    Minato  35.6432274  139.7400553\n",
       "3  Shinjuku  35.6937632  139.7036319\n",
       "4    Bunkyō    35.71881   139.744732"
      ]
     },
     "execution_count": 29,
     "metadata": {},
     "output_type": "execute_result"
    }
   ],
   "source": [
    "from pandas import DataFrame\n",
    "dfmap={'Name':['Chiyoda','Chūō','Minato','Shinjuku','Bunkyō'],'Latitude': ['35.6938097','35.666255','35.6432274','35.6937632','35.71881'],'Longitude':['139.7532163','139.775565','139.7400553','139.7036319','139.744732']}\n",
    "df=DataFrame(dfmap,columns=['Name','Latitude','Longitude'])\n",
    "df"
   ]
  },
  {
   "cell_type": "markdown",
   "metadata": {},
   "source": [
    "### Merging the two tables (dfwik and df) together."
   ]
  },
  {
   "cell_type": "code",
   "execution_count": 30,
   "metadata": {},
   "outputs": [
    {
     "data": {
      "text/html": [
       "<div>\n",
       "<style scoped>\n",
       "    .dataframe tbody tr th:only-of-type {\n",
       "        vertical-align: middle;\n",
       "    }\n",
       "\n",
       "    .dataframe tbody tr th {\n",
       "        vertical-align: top;\n",
       "    }\n",
       "\n",
       "    .dataframe thead th {\n",
       "        text-align: right;\n",
       "    }\n",
       "</style>\n",
       "<table border=\"1\" class=\"dataframe\">\n",
       "  <thead>\n",
       "    <tr style=\"text-align: right;\">\n",
       "      <th></th>\n",
       "      <th>Name</th>\n",
       "      <th>Population(as of October 2016</th>\n",
       "      <th>Area(km2)</th>\n",
       "      <th>Latitude</th>\n",
       "      <th>Longitude</th>\n",
       "    </tr>\n",
       "  </thead>\n",
       "  <tbody>\n",
       "    <tr>\n",
       "      <th>0</th>\n",
       "      <td>Chiyoda</td>\n",
       "      <td>59441</td>\n",
       "      <td>11.66</td>\n",
       "      <td>35.6938097</td>\n",
       "      <td>139.7532163</td>\n",
       "    </tr>\n",
       "    <tr>\n",
       "      <th>1</th>\n",
       "      <td>Chūō</td>\n",
       "      <td>147620</td>\n",
       "      <td>10.21</td>\n",
       "      <td>35.666255</td>\n",
       "      <td>139.775565</td>\n",
       "    </tr>\n",
       "    <tr>\n",
       "      <th>2</th>\n",
       "      <td>Minato</td>\n",
       "      <td>248071</td>\n",
       "      <td>20.37</td>\n",
       "      <td>35.6432274</td>\n",
       "      <td>139.7400553</td>\n",
       "    </tr>\n",
       "    <tr>\n",
       "      <th>3</th>\n",
       "      <td>Shinjuku</td>\n",
       "      <td>339211</td>\n",
       "      <td>18.22</td>\n",
       "      <td>35.6937632</td>\n",
       "      <td>139.7036319</td>\n",
       "    </tr>\n",
       "    <tr>\n",
       "      <th>4</th>\n",
       "      <td>Bunkyō</td>\n",
       "      <td>223389</td>\n",
       "      <td>11.29</td>\n",
       "      <td>35.71881</td>\n",
       "      <td>139.744732</td>\n",
       "    </tr>\n",
       "  </tbody>\n",
       "</table>\n",
       "</div>"
      ],
      "text/plain": [
       "       Name  Population(as of October 2016  Area(km2)    Latitude    Longitude\n",
       "0   Chiyoda                          59441      11.66  35.6938097  139.7532163\n",
       "1      Chūō                         147620      10.21   35.666255   139.775565\n",
       "2    Minato                         248071      20.37  35.6432274  139.7400553\n",
       "3  Shinjuku                         339211      18.22  35.6937632  139.7036319\n",
       "4    Bunkyō                         223389      11.29    35.71881   139.744732"
      ]
     },
     "execution_count": 30,
     "metadata": {},
     "output_type": "execute_result"
    }
   ],
   "source": [
    "dftotal =pd.merge(dfwik, df, on='Name',how='outer')\n",
    "dftotal"
   ]
  },
  {
   "cell_type": "code",
   "execution_count": 67,
   "metadata": {},
   "outputs": [
    {
     "data": {
      "text/plain": [
       "'dfwik'"
      ]
     },
     "metadata": {},
     "output_type": "display_data"
    },
    {
     "data": {
      "text/plain": [
       "'df'"
      ]
     },
     "metadata": {},
     "output_type": "display_data"
    },
    {
     "data": {
      "text/plain": [
       "\"pd.merge(dfwik, df, left_on='Name',right_on='Latitude')\""
      ]
     },
     "metadata": {},
     "output_type": "display_data"
    }
   ],
   "source": [
    "display('dfwik','df',\"pd.merge(dfwik, df, left_on='Name',right_on='Latitude')\")"
   ]
  },
  {
   "cell_type": "markdown",
   "metadata": {},
   "source": [
    "### Scrapping land price values"
   ]
  },
  {
   "cell_type": "code",
   "execution_count": 33,
   "metadata": {},
   "outputs": [
    {
     "name": "stdout",
     "output_type": "stream",
     "text": [
      "          Area  Average Unit Price\n",
      "0   Chiyoda-Ku  1,827,610 JPY/sq.m\n",
      "1      Chuo-Ku  3,222,564 JPY/sq.m\n",
      "2    Minato-Ku  2,253,006 JPY/sq.m\n",
      "3  Shinjuku-Ku    915,879 JPY/sq.m\n",
      "4    Bunkyo-Ku    957,330 JPY/sq.m\n"
     ]
    }
   ],
   "source": [
    "df_land=pd.read_html('https://utinokati.com/en/details/land-market-value/area/Tokyo/')[0]\n",
    "dfland=df_land.drop(columns=['Average Trading Price'],axis=1)\n",
    "dfland=dfland.iloc[0:5]\n",
    "print(dfland)\n"
   ]
  },
  {
   "cell_type": "code",
   "execution_count": 38,
   "metadata": {},
   "outputs": [
    {
     "data": {
      "text/html": [
       "<div>\n",
       "<style scoped>\n",
       "    .dataframe tbody tr th:only-of-type {\n",
       "        vertical-align: middle;\n",
       "    }\n",
       "\n",
       "    .dataframe tbody tr th {\n",
       "        vertical-align: top;\n",
       "    }\n",
       "\n",
       "    .dataframe thead th {\n",
       "        text-align: right;\n",
       "    }\n",
       "</style>\n",
       "<table border=\"1\" class=\"dataframe\">\n",
       "  <thead>\n",
       "    <tr style=\"text-align: right;\">\n",
       "      <th></th>\n",
       "      <th>Name</th>\n",
       "      <th>Average Price</th>\n",
       "    </tr>\n",
       "  </thead>\n",
       "  <tbody>\n",
       "    <tr>\n",
       "      <th>0</th>\n",
       "      <td>Chiyoda</td>\n",
       "      <td>1,827,610</td>\n",
       "    </tr>\n",
       "    <tr>\n",
       "      <th>1</th>\n",
       "      <td>Chūō</td>\n",
       "      <td>3,222,564</td>\n",
       "    </tr>\n",
       "    <tr>\n",
       "      <th>2</th>\n",
       "      <td>Minato</td>\n",
       "      <td>2,253,006</td>\n",
       "    </tr>\n",
       "    <tr>\n",
       "      <th>3</th>\n",
       "      <td>Shinjuku</td>\n",
       "      <td>915,879</td>\n",
       "    </tr>\n",
       "    <tr>\n",
       "      <th>4</th>\n",
       "      <td>Bunkyō</td>\n",
       "      <td>957,3301</td>\n",
       "    </tr>\n",
       "  </tbody>\n",
       "</table>\n",
       "</div>"
      ],
      "text/plain": [
       "       Name Average Price\n",
       "0   Chiyoda     1,827,610\n",
       "1      Chūō     3,222,564\n",
       "2    Minato     2,253,006\n",
       "3  Shinjuku       915,879\n",
       "4    Bunkyō      957,3301"
      ]
     },
     "execution_count": 38,
     "metadata": {},
     "output_type": "execute_result"
    }
   ],
   "source": [
    "from pandas import DataFrame\n",
    "dfland={'Name':['Chiyoda','Chūō','Minato','Shinjuku','Bunkyō'],'Average Price': ['1,827,610','3,222,564','2,253,006','915,879','957,3301']}\n",
    "df_al=DataFrame(dfland,columns=['Name','Average Price'])\n",
    "df_al"
   ]
  },
  {
   "cell_type": "code",
   "execution_count": 39,
   "metadata": {},
   "outputs": [
    {
     "data": {
      "text/html": [
       "<div>\n",
       "<style scoped>\n",
       "    .dataframe tbody tr th:only-of-type {\n",
       "        vertical-align: middle;\n",
       "    }\n",
       "\n",
       "    .dataframe tbody tr th {\n",
       "        vertical-align: top;\n",
       "    }\n",
       "\n",
       "    .dataframe thead th {\n",
       "        text-align: right;\n",
       "    }\n",
       "</style>\n",
       "<table border=\"1\" class=\"dataframe\">\n",
       "  <thead>\n",
       "    <tr style=\"text-align: right;\">\n",
       "      <th></th>\n",
       "      <th>Name</th>\n",
       "      <th>Population(as of October 2016</th>\n",
       "      <th>Area(km2)</th>\n",
       "      <th>Latitude</th>\n",
       "      <th>Longitude</th>\n",
       "      <th>Average Price</th>\n",
       "    </tr>\n",
       "  </thead>\n",
       "  <tbody>\n",
       "    <tr>\n",
       "      <th>0</th>\n",
       "      <td>Chiyoda</td>\n",
       "      <td>59441</td>\n",
       "      <td>11.66</td>\n",
       "      <td>35.6938097</td>\n",
       "      <td>139.7532163</td>\n",
       "      <td>1,827,610</td>\n",
       "    </tr>\n",
       "    <tr>\n",
       "      <th>1</th>\n",
       "      <td>Chūō</td>\n",
       "      <td>147620</td>\n",
       "      <td>10.21</td>\n",
       "      <td>35.666255</td>\n",
       "      <td>139.775565</td>\n",
       "      <td>3,222,564</td>\n",
       "    </tr>\n",
       "    <tr>\n",
       "      <th>2</th>\n",
       "      <td>Minato</td>\n",
       "      <td>248071</td>\n",
       "      <td>20.37</td>\n",
       "      <td>35.6432274</td>\n",
       "      <td>139.7400553</td>\n",
       "      <td>2,253,006</td>\n",
       "    </tr>\n",
       "    <tr>\n",
       "      <th>3</th>\n",
       "      <td>Shinjuku</td>\n",
       "      <td>339211</td>\n",
       "      <td>18.22</td>\n",
       "      <td>35.6937632</td>\n",
       "      <td>139.7036319</td>\n",
       "      <td>915,879</td>\n",
       "    </tr>\n",
       "    <tr>\n",
       "      <th>4</th>\n",
       "      <td>Bunkyō</td>\n",
       "      <td>223389</td>\n",
       "      <td>11.29</td>\n",
       "      <td>35.71881</td>\n",
       "      <td>139.744732</td>\n",
       "      <td>957,3301</td>\n",
       "    </tr>\n",
       "  </tbody>\n",
       "</table>\n",
       "</div>"
      ],
      "text/plain": [
       "       Name  Population(as of October 2016  Area(km2)    Latitude  \\\n",
       "0   Chiyoda                          59441      11.66  35.6938097   \n",
       "1      Chūō                         147620      10.21   35.666255   \n",
       "2    Minato                         248071      20.37  35.6432274   \n",
       "3  Shinjuku                         339211      18.22  35.6937632   \n",
       "4    Bunkyō                         223389      11.29    35.71881   \n",
       "\n",
       "     Longitude Average Price  \n",
       "0  139.7532163     1,827,610  \n",
       "1   139.775565     3,222,564  \n",
       "2  139.7400553     2,253,006  \n",
       "3  139.7036319       915,879  \n",
       "4   139.744732      957,3301  "
      ]
     },
     "execution_count": 39,
     "metadata": {},
     "output_type": "execute_result"
    }
   ],
   "source": [
    "df_all =pd.merge(dftotal, df_al, on='Name',how='outer')\n",
    "df_all"
   ]
  },
  {
   "cell_type": "markdown",
   "metadata": {},
   "source": [
    "## Foursquare information"
   ]
  },
  {
   "cell_type": "code",
   "execution_count": 7,
   "metadata": {},
   "outputs": [
    {
     "name": "stdout",
     "output_type": "stream",
     "text": [
      "Your credentails:\n",
      "CLIENT_ID: QIKHDMPLGGV1KK1GTSCWWCY250SWEPWMNZOBCDYYVDNNFFST\n",
      "CLIENT_SECRET:244KRPN0ZU221MCY3MKMWCYWL2G2NLNGWWNZZCRTZHVCLWA5\n"
     ]
    }
   ],
   "source": [
    "\n",
    "CLIENT_ID = 'QIKHDMPLGGV1KK1GTSCWWCY250SWEPWMNZOBCDYYVDNNFFST' # your Foursquare ID\n",
    "CLIENT_SECRET = '244KRPN0ZU221MCY3MKMWCYWL2G2NLNGWWNZZCRTZHVCLWA5' # your Foursquare Secret\n",
    "VERSION = '20180605' # Foursquare API version\n",
    "\n",
    "print('Your credentails:')\n",
    "print('CLIENT_ID: ' + CLIENT_ID)\n",
    "print('CLIENT_SECRET:' + CLIENT_SECRET)"
   ]
  },
  {
   "cell_type": "markdown",
   "metadata": {},
   "source": [
    "## Top 100 venues around Shinjuku"
   ]
  },
  {
   "cell_type": "code",
   "execution_count": 19,
   "metadata": {},
   "outputs": [
    {
     "data": {
      "text/plain": [
       "'https://api.foursquare.com/v2/venues/explore?&client_id=QIKHDMPLGGV1KK1GTSCWWCY250SWEPWMNZOBCDYYVDNNFFST&client_secret=244KRPN0ZU221MCY3MKMWCYWL2G2NLNGWWNZZCRTZHVCLWA5&v=20180605&ll=35.6937632,139.7036319&radius=100&limit=100'"
      ]
     },
     "execution_count": 19,
     "metadata": {},
     "output_type": "execute_result"
    }
   ],
   "source": [
    "# FourSquare Query URL\n",
    "Shinjuku_lat= '35.6937632'\n",
    "Shinjuku_long ='139.7036319'\n",
    "\n",
    "LIMIT=100\n",
    "radius=100\n",
    "url_Shinjuku = 'https://api.foursquare.com/v2/venues/explore?&client_id={}&client_secret={}&v={}&ll={},{}&radius={}&limit={}'.format(\n",
    "    CLIENT_ID, \n",
    "    CLIENT_SECRET, \n",
    "    VERSION, \n",
    "    Shinjuku_lat, \n",
    "    Shinjuku_long, \n",
    "    radius, \n",
    "    LIMIT)\n",
    "url_Shinjuku\n"
   ]
  },
  {
   "cell_type": "code",
   "execution_count": 20,
   "metadata": {},
   "outputs": [
    {
     "data": {
      "text/plain": [
       "[{'reasons': {'count': 0,\n",
       "   'items': [{'summary': 'This spot is popular',\n",
       "     'type': 'general',\n",
       "     'reasonName': 'globalInteractionReason'}]},\n",
       "  'venue': {'id': '4df609fe18386ecb4e38dfd2',\n",
       "   'name': 'nagune',\n",
       "   'location': {'address': '歌舞伎町1-1-5',\n",
       "    'crossStreet': 'まねき通り',\n",
       "    'lat': 35.6942348,\n",
       "    'lng': 139.7045234,\n",
       "    'labeledLatLngs': [{'label': 'display',\n",
       "      'lat': 35.6942348,\n",
       "      'lng': 139.7045234}],\n",
       "    'distance': 96,\n",
       "    'postalCode': '160-0021',\n",
       "    'cc': 'JP',\n",
       "    'city': '新宿区',\n",
       "    'state': '東京都',\n",
       "    'country': '日本',\n",
       "    'formattedAddress': ['歌舞伎町1-1-5 (まねき通り)', '新宿区, 東京都', '160-0021', '日本']},\n",
       "   'categories': [{'id': '4bf58dd8d48988d116941735',\n",
       "     'name': 'Bar',\n",
       "     'pluralName': 'Bars',\n",
       "     'shortName': 'Bar',\n",
       "     'icon': {'prefix': 'https://ss3.4sqi.net/img/categories_v2/nightlife/pub_',\n",
       "      'suffix': '.png'},\n",
       "     'primary': True}],\n",
       "   'photos': {'count': 0, 'groups': []}},\n",
       "  'referralId': 'e-0-4df609fe18386ecb4e38dfd2-0'},\n",
       " {'reasons': {'count': 0,\n",
       "   'items': [{'summary': 'This spot is popular',\n",
       "     'type': 'general',\n",
       "     'reasonName': 'globalInteractionReason'}]},\n",
       "  'venue': {'id': '4ba4e6ebf964a520edc038e3',\n",
       "   'name': 'DUG',\n",
       "   'location': {'address': '新宿3-15-12',\n",
       "    'lat': 35.692951,\n",
       "    'lng': 139.70336,\n",
       "    'labeledLatLngs': [{'label': 'display',\n",
       "      'lat': 35.692951,\n",
       "      'lng': 139.70336}],\n",
       "    'distance': 93,\n",
       "    'cc': 'JP',\n",
       "    'city': '新宿区',\n",
       "    'state': '東京都',\n",
       "    'country': '日本',\n",
       "    'formattedAddress': ['新宿3-15-12', '新宿区, 東京都', '日本']},\n",
       "   'categories': [{'id': '4bf58dd8d48988d1e7931735',\n",
       "     'name': 'Jazz Club',\n",
       "     'pluralName': 'Jazz Clubs',\n",
       "     'shortName': 'Jazz Club',\n",
       "     'icon': {'prefix': 'https://ss3.4sqi.net/img/categories_v2/arts_entertainment/musicvenue_jazzclub_',\n",
       "      'suffix': '.png'},\n",
       "     'primary': True}],\n",
       "   'photos': {'count': 0, 'groups': []}},\n",
       "  'referralId': 'e-0-4ba4e6ebf964a520edc038e3-1'},\n",
       " {'reasons': {'count': 0,\n",
       "   'items': [{'summary': 'This spot is popular',\n",
       "     'type': 'general',\n",
       "     'reasonName': 'globalInteractionReason'}]},\n",
       "  'venue': {'id': '4b686016f964a520b5742be3',\n",
       "   'name': 'Iwamoto Q (いわもとQ)',\n",
       "   'location': {'address': '歌舞伎町1-4-8',\n",
       "    'crossStreet': 'らんざんビル 1F',\n",
       "    'lat': 35.694295,\n",
       "    'lng': 139.703345,\n",
       "    'labeledLatLngs': [{'label': 'display',\n",
       "      'lat': 35.694295,\n",
       "      'lng': 139.703345}],\n",
       "    'distance': 64,\n",
       "    'postalCode': '160-0021',\n",
       "    'cc': 'JP',\n",
       "    'city': '東京',\n",
       "    'state': '東京都',\n",
       "    'country': '日本',\n",
       "    'formattedAddress': ['歌舞伎町1-4-8 (らんざんビル 1F)',\n",
       "     '新宿区, 東京都',\n",
       "     '160-0021',\n",
       "     '日本']},\n",
       "   'categories': [{'id': '55a59bace4b013909087cb27',\n",
       "     'name': 'Soba Restaurant',\n",
       "     'pluralName': 'Soba Restaurants',\n",
       "     'shortName': 'Soba',\n",
       "     'icon': {'prefix': 'https://ss3.4sqi.net/img/categories_v2/food/ramen_',\n",
       "      'suffix': '.png'},\n",
       "     'primary': True}],\n",
       "   'photos': {'count': 0, 'groups': []}},\n",
       "  'referralId': 'e-0-4b686016f964a520b5742be3-2'},\n",
       " {'reasons': {'count': 0,\n",
       "   'items': [{'summary': 'This spot is popular',\n",
       "     'type': 'general',\n",
       "     'reasonName': 'globalInteractionReason'}]},\n",
       "  'venue': {'id': '4b82617cf964a5200bd130e3',\n",
       "   'name': 'Taruichi (樽一)',\n",
       "   'location': {'address': '歌舞伎町1-2-9',\n",
       "    'crossStreet': 'ベストウエスタンホテル新宿アスティナ東京 B1F',\n",
       "    'lat': 35.69433432698568,\n",
       "    'lng': 139.70416992189354,\n",
       "    'labeledLatLngs': [{'label': 'display',\n",
       "      'lat': 35.69433432698568,\n",
       "      'lng': 139.70416992189354}],\n",
       "    'distance': 80,\n",
       "    'cc': 'JP',\n",
       "    'city': '新宿区',\n",
       "    'state': '東京都',\n",
       "    'country': '日本',\n",
       "    'formattedAddress': ['歌舞伎町1-2-9 (ベストウエスタンホテル新宿アスティナ東京 B1F)',\n",
       "     '新宿区, 東京都',\n",
       "     '日本']},\n",
       "   'categories': [{'id': '4bf58dd8d48988d111941735',\n",
       "     'name': 'Japanese Restaurant',\n",
       "     'pluralName': 'Japanese Restaurants',\n",
       "     'shortName': 'Japanese',\n",
       "     'icon': {'prefix': 'https://ss3.4sqi.net/img/categories_v2/food/japanese_',\n",
       "      'suffix': '.png'},\n",
       "     'primary': True}],\n",
       "   'photos': {'count': 0, 'groups': []}},\n",
       "  'referralId': 'e-0-4b82617cf964a5200bd130e3-3'},\n",
       " {'reasons': {'count': 0,\n",
       "   'items': [{'summary': 'This spot is popular',\n",
       "     'type': 'general',\n",
       "     'reasonName': 'globalInteractionReason'}]},\n",
       "  'venue': {'id': '4c57eaafd12a20a106ba67bd',\n",
       "   'name': 'Yakiniku Toraji (焼肉トラジ)',\n",
       "   'location': {'address': '歌舞伎町1-2-6',\n",
       "    'crossStreet': '三経ビル 2F-3F',\n",
       "    'lat': 35.69390333019255,\n",
       "    'lng': 139.7040045261383,\n",
       "    'labeledLatLngs': [{'label': 'display',\n",
       "      'lat': 35.69390333019255,\n",
       "      'lng': 139.7040045261383}],\n",
       "    'distance': 37,\n",
       "    'postalCode': '160-0021',\n",
       "    'cc': 'JP',\n",
       "    'city': '新宿区',\n",
       "    'state': '東京都',\n",
       "    'country': '日本',\n",
       "    'formattedAddress': ['歌舞伎町1-2-6 (三経ビル 2F-3F)',\n",
       "     '新宿区, 東京都',\n",
       "     '160-0021',\n",
       "     '日本']},\n",
       "   'categories': [{'id': '4bf58dd8d48988d1df931735',\n",
       "     'name': 'BBQ Joint',\n",
       "     'pluralName': 'BBQ Joints',\n",
       "     'shortName': 'BBQ',\n",
       "     'icon': {'prefix': 'https://ss3.4sqi.net/img/categories_v2/food/bbqalt_',\n",
       "      'suffix': '.png'},\n",
       "     'primary': True}],\n",
       "   'photos': {'count': 0, 'groups': []}},\n",
       "  'referralId': 'e-0-4c57eaafd12a20a106ba67bd-4'},\n",
       " {'reasons': {'count': 0,\n",
       "   'items': [{'summary': 'This spot is popular',\n",
       "     'type': 'general',\n",
       "     'reasonName': 'globalInteractionReason'}]},\n",
       "  'venue': {'id': '4bf6d34013aed13a5345eaf7',\n",
       "   'name': 'Sugoi Niboshi Ramen Nagi (すごい煮干ラーメン凪)',\n",
       "   'location': {'address': '歌舞伎町1-1-10',\n",
       "    'crossStreet': '新宿ゴールデン街',\n",
       "    'lat': 35.69378872832133,\n",
       "    'lng': 139.7044998237034,\n",
       "    'labeledLatLngs': [{'label': 'display',\n",
       "      'lat': 35.69378872832133,\n",
       "      'lng': 139.7044998237034}],\n",
       "    'distance': 78,\n",
       "    'postalCode': '160-0021',\n",
       "    'cc': 'JP',\n",
       "    'city': '東京',\n",
       "    'state': '東京都',\n",
       "    'country': '日本',\n",
       "    'formattedAddress': ['歌舞伎町1-1-10 (新宿ゴールデン街)',\n",
       "     '新宿区, 東京都',\n",
       "     '160-0021',\n",
       "     '日本']},\n",
       "   'categories': [{'id': '55a59bace4b013909087cb24',\n",
       "     'name': 'Ramen Restaurant',\n",
       "     'pluralName': 'Ramen Restaurants',\n",
       "     'shortName': 'Ramen',\n",
       "     'icon': {'prefix': 'https://ss3.4sqi.net/img/categories_v2/food/ramen_',\n",
       "      'suffix': '.png'},\n",
       "     'primary': True}],\n",
       "   'photos': {'count': 0, 'groups': []}},\n",
       "  'referralId': 'e-0-4bf6d34013aed13a5345eaf7-5'},\n",
       " {'reasons': {'count': 0,\n",
       "   'items': [{'summary': 'This spot is popular',\n",
       "     'type': 'general',\n",
       "     'reasonName': 'globalInteractionReason'}]},\n",
       "  'venue': {'id': '57e52ea0498e5057c134884c',\n",
       "   'name': 'HUB',\n",
       "   'location': {'address': '歌舞伎町1-6-1',\n",
       "    'crossStreet': '靖国通り シロービル B1F',\n",
       "    'lat': 35.69348452538481,\n",
       "    'lng': 139.70280826091766,\n",
       "    'labeledLatLngs': [{'label': 'display',\n",
       "      'lat': 35.69348452538481,\n",
       "      'lng': 139.70280826091766}],\n",
       "    'distance': 80,\n",
       "    'postalCode': '160-0021',\n",
       "    'cc': 'JP',\n",
       "    'city': '東京',\n",
       "    'state': '東京都',\n",
       "    'country': '日本',\n",
       "    'formattedAddress': ['歌舞伎町1-6-1 (靖国通り シロービル B1F)',\n",
       "     '新宿区, 東京都',\n",
       "     '160-0021',\n",
       "     '日本']},\n",
       "   'categories': [{'id': '4bf58dd8d48988d11b941735',\n",
       "     'name': 'Pub',\n",
       "     'pluralName': 'Pubs',\n",
       "     'shortName': 'Pub',\n",
       "     'icon': {'prefix': 'https://ss3.4sqi.net/img/categories_v2/nightlife/pub_',\n",
       "      'suffix': '.png'},\n",
       "     'primary': True}],\n",
       "   'photos': {'count': 0, 'groups': []}},\n",
       "  'referralId': 'e-0-57e52ea0498e5057c134884c-6'},\n",
       " {'reasons': {'count': 0,\n",
       "   'items': [{'summary': 'This spot is popular',\n",
       "     'type': 'general',\n",
       "     'reasonName': 'globalInteractionReason'}]},\n",
       "  'venue': {'id': '571c204b498ea39980824d40',\n",
       "   'name': 'Live house Zirco Tokyo',\n",
       "   'location': {'address': '歌舞伎町1-2-5',\n",
       "    'crossStreet': '動揺ビル B2F',\n",
       "    'lat': 35.693722,\n",
       "    'lng': 139.703979,\n",
       "    'labeledLatLngs': [{'label': 'display',\n",
       "      'lat': 35.693722,\n",
       "      'lng': 139.703979}],\n",
       "    'distance': 31,\n",
       "    'postalCode': '160-0021',\n",
       "    'cc': 'JP',\n",
       "    'city': '新宿区',\n",
       "    'state': '東京都',\n",
       "    'country': '日本',\n",
       "    'formattedAddress': ['歌舞伎町1-2-5 (動揺ビル B2F)',\n",
       "     '新宿区, 東京都',\n",
       "     '160-0021',\n",
       "     '日本']},\n",
       "   'categories': [{'id': '4bf58dd8d48988d1e9931735',\n",
       "     'name': 'Rock Club',\n",
       "     'pluralName': 'Rock Clubs',\n",
       "     'shortName': 'Rock Club',\n",
       "     'icon': {'prefix': 'https://ss3.4sqi.net/img/categories_v2/arts_entertainment/musicvenue_rockclub_',\n",
       "      'suffix': '.png'},\n",
       "     'primary': True}],\n",
       "   'photos': {'count': 0, 'groups': []}},\n",
       "  'referralId': 'e-0-571c204b498ea39980824d40-7'},\n",
       " {'reasons': {'count': 0,\n",
       "   'items': [{'summary': 'This spot is popular',\n",
       "     'type': 'general',\n",
       "     'reasonName': 'globalInteractionReason'}]},\n",
       "  'venue': {'id': '4cefaf4dd7268cfae7a7d04e',\n",
       "   'name': \"Ace's\",\n",
       "   'location': {'address': '歌舞伎町1-1-9',\n",
       "    'crossStreet': 'ゴールデン街 G2',\n",
       "    'lat': 35.693865,\n",
       "    'lng': 139.704429,\n",
       "    'labeledLatLngs': [{'label': 'display',\n",
       "      'lat': 35.693865,\n",
       "      'lng': 139.704429}],\n",
       "    'distance': 72,\n",
       "    'postalCode': '160-0021',\n",
       "    'cc': 'JP',\n",
       "    'city': '新宿区',\n",
       "    'state': '東京都',\n",
       "    'country': '日本',\n",
       "    'formattedAddress': ['歌舞伎町1-1-9 (ゴールデン街 G2)',\n",
       "     '新宿区, 東京都',\n",
       "     '160-0021',\n",
       "     '日本']},\n",
       "   'categories': [{'id': '4bf58dd8d48988d116941735',\n",
       "     'name': 'Bar',\n",
       "     'pluralName': 'Bars',\n",
       "     'shortName': 'Bar',\n",
       "     'icon': {'prefix': 'https://ss3.4sqi.net/img/categories_v2/nightlife/pub_',\n",
       "      'suffix': '.png'},\n",
       "     'primary': True}],\n",
       "   'photos': {'count': 0, 'groups': []}},\n",
       "  'referralId': 'e-0-4cefaf4dd7268cfae7a7d04e-8'},\n",
       " {'reasons': {'count': 0,\n",
       "   'items': [{'summary': 'This spot is popular',\n",
       "     'type': 'general',\n",
       "     'reasonName': 'globalInteractionReason'}]},\n",
       "  'venue': {'id': '4e7c8184e4cd0ae595717cc4',\n",
       "   'name': 'こどじ',\n",
       "   'location': {'address': '歌舞伎町1-1-9',\n",
       "    'crossStreet': 'あかるい花園一番街 2F',\n",
       "    'lat': 35.693851271150685,\n",
       "    'lng': 139.7046898305416,\n",
       "    'labeledLatLngs': [{'label': 'display',\n",
       "      'lat': 35.693851271150685,\n",
       "      'lng': 139.7046898305416}],\n",
       "    'distance': 96,\n",
       "    'postalCode': '160-0021',\n",
       "    'cc': 'JP',\n",
       "    'city': '新宿区',\n",
       "    'state': '東京都',\n",
       "    'country': '日本',\n",
       "    'formattedAddress': ['歌舞伎町1-1-9 (あかるい花園一番街 2F)',\n",
       "     '新宿区, 東京都',\n",
       "     '160-0021',\n",
       "     '日本']},\n",
       "   'categories': [{'id': '4bf58dd8d48988d116941735',\n",
       "     'name': 'Bar',\n",
       "     'pluralName': 'Bars',\n",
       "     'shortName': 'Bar',\n",
       "     'icon': {'prefix': 'https://ss3.4sqi.net/img/categories_v2/nightlife/pub_',\n",
       "      'suffix': '.png'},\n",
       "     'primary': True}],\n",
       "   'photos': {'count': 0, 'groups': []}},\n",
       "  'referralId': 'e-0-4e7c8184e4cd0ae595717cc4-9'},\n",
       " {'reasons': {'count': 0,\n",
       "   'items': [{'summary': 'This spot is popular',\n",
       "     'type': 'general',\n",
       "     'reasonName': 'globalInteractionReason'}]},\n",
       "  'venue': {'id': '4b62c753f964a52057522ae3',\n",
       "   'name': 'Wagyu Yakiniku Black Hole (和牛焼肉ブラックホール)',\n",
       "   'location': {'address': '歌舞伎町1-2-5',\n",
       "    'crossStreet': '東陽ビル 1F',\n",
       "    'lat': 35.693823,\n",
       "    'lng': 139.703916,\n",
       "    'labeledLatLngs': [{'label': 'display',\n",
       "      'lat': 35.693823,\n",
       "      'lng': 139.703916}],\n",
       "    'distance': 26,\n",
       "    'postalCode': '160-0021',\n",
       "    'cc': 'JP',\n",
       "    'city': '新宿区',\n",
       "    'state': '東京都',\n",
       "    'country': '日本',\n",
       "    'formattedAddress': ['歌舞伎町1-2-5 (東陽ビル 1F)', '新宿区, 東京都', '160-0021', '日本']},\n",
       "   'categories': [{'id': '4bf58dd8d48988d1df931735',\n",
       "     'name': 'BBQ Joint',\n",
       "     'pluralName': 'BBQ Joints',\n",
       "     'shortName': 'BBQ',\n",
       "     'icon': {'prefix': 'https://ss3.4sqi.net/img/categories_v2/food/bbqalt_',\n",
       "      'suffix': '.png'},\n",
       "     'primary': True}],\n",
       "   'photos': {'count': 0, 'groups': []}},\n",
       "  'referralId': 'e-0-4b62c753f964a52057522ae3-10'},\n",
       " {'reasons': {'count': 0,\n",
       "   'items': [{'summary': 'This spot is popular',\n",
       "     'type': 'general',\n",
       "     'reasonName': 'globalInteractionReason'}]},\n",
       "  'venue': {'id': '4c09061d340720a111008493',\n",
       "   'name': 'NaNa',\n",
       "   'location': {'address': '歌舞伎町1-1-8',\n",
       "    'crossStreet': 'あかるい花園一番街',\n",
       "    'lat': 35.6940069074866,\n",
       "    'lng': 139.70444831597533,\n",
       "    'labeledLatLngs': [{'label': 'display',\n",
       "      'lat': 35.6940069074866,\n",
       "      'lng': 139.70444831597533}],\n",
       "    'distance': 78,\n",
       "    'postalCode': '160-0021',\n",
       "    'cc': 'JP',\n",
       "    'city': '新宿区',\n",
       "    'state': '東京都',\n",
       "    'country': '日本',\n",
       "    'formattedAddress': ['歌舞伎町1-1-8 (あかるい花園一番街)',\n",
       "     '新宿区, 東京都',\n",
       "     '160-0021',\n",
       "     '日本']},\n",
       "   'categories': [{'id': '4bf58dd8d48988d116941735',\n",
       "     'name': 'Bar',\n",
       "     'pluralName': 'Bars',\n",
       "     'shortName': 'Bar',\n",
       "     'icon': {'prefix': 'https://ss3.4sqi.net/img/categories_v2/nightlife/pub_',\n",
       "      'suffix': '.png'},\n",
       "     'primary': True}],\n",
       "   'photos': {'count': 0, 'groups': []}},\n",
       "  'referralId': 'e-0-4c09061d340720a111008493-11'},\n",
       " {'reasons': {'count': 0,\n",
       "   'items': [{'summary': 'This spot is popular',\n",
       "     'type': 'general',\n",
       "     'reasonName': 'globalInteractionReason'}]},\n",
       "  'venue': {'id': '58d0431515fb433bd0d27357',\n",
       "   'name': 'Toriyoshi Shoten (鳥良商店)',\n",
       "   'location': {'address': '歌舞伎町1-2-2',\n",
       "    'crossStreet': 'エイチエフ歌舞伎町ビル 1F',\n",
       "    'lat': 35.69337965790959,\n",
       "    'lng': 139.70371283590794,\n",
       "    'labeledLatLngs': [{'label': 'display',\n",
       "      'lat': 35.69337965790959,\n",
       "      'lng': 139.70371283590794}],\n",
       "    'distance': 43,\n",
       "    'postalCode': '160-0021',\n",
       "    'cc': 'JP',\n",
       "    'city': '新宿区',\n",
       "    'state': '東京都',\n",
       "    'country': '日本',\n",
       "    'formattedAddress': ['歌舞伎町1-2-2 (エイチエフ歌舞伎町ビル 1F)',\n",
       "     '新宿区, 東京都',\n",
       "     '160-0021',\n",
       "     '日本']},\n",
       "   'categories': [{'id': '55a59bace4b013909087cb09',\n",
       "     'name': 'Yakitori Restaurant',\n",
       "     'pluralName': 'Yakitori Restaurants',\n",
       "     'shortName': 'Yakitori',\n",
       "     'icon': {'prefix': 'https://ss3.4sqi.net/img/categories_v2/food/japanese_',\n",
       "      'suffix': '.png'},\n",
       "     'primary': True}],\n",
       "   'photos': {'count': 0, 'groups': []}},\n",
       "  'referralId': 'e-0-58d0431515fb433bd0d27357-12'},\n",
       " {'reasons': {'count': 0,\n",
       "   'items': [{'summary': 'This spot is popular',\n",
       "     'type': 'general',\n",
       "     'reasonName': 'globalInteractionReason'}]},\n",
       "  'venue': {'id': '4b617b65f964a5201a152ae3',\n",
       "   'name': '大陸',\n",
       "   'location': {'address': '歌舞伎町1-6-3',\n",
       "    'crossStreet': '石塚ビル 4F',\n",
       "    'lat': 35.693519,\n",
       "    'lng': 139.702588,\n",
       "    'labeledLatLngs': [{'label': 'display',\n",
       "      'lat': 35.693519,\n",
       "      'lng': 139.702588}],\n",
       "    'distance': 98,\n",
       "    'cc': 'JP',\n",
       "    'city': '東京',\n",
       "    'state': '東京都',\n",
       "    'country': '日本',\n",
       "    'formattedAddress': ['歌舞伎町1-6-3 (石塚ビル 4F)', '新宿区, 東京都', '日本']},\n",
       "   'categories': [{'id': '4bf58dd8d48988d145941735',\n",
       "     'name': 'Chinese Restaurant',\n",
       "     'pluralName': 'Chinese Restaurants',\n",
       "     'shortName': 'Chinese',\n",
       "     'icon': {'prefix': 'https://ss3.4sqi.net/img/categories_v2/food/asian_',\n",
       "      'suffix': '.png'},\n",
       "     'primary': True}],\n",
       "   'photos': {'count': 0, 'groups': []}},\n",
       "  'referralId': 'e-0-4b617b65f964a5201a152ae3-13'},\n",
       " {'reasons': {'count': 0,\n",
       "   'items': [{'summary': 'This spot is popular',\n",
       "     'type': 'general',\n",
       "     'reasonName': 'globalInteractionReason'}]},\n",
       "  'venue': {'id': '4b5d59eaf964a5208b5a29e3',\n",
       "   'name': \"Abbot's Choice (アボットチョイス)\",\n",
       "   'location': {'address': '歌舞伎町1-2-1',\n",
       "    'crossStreet': 'ナインティー新宿ビル B1F',\n",
       "    'lat': 35.693306,\n",
       "    'lng': 139.703668,\n",
       "    'labeledLatLngs': [{'label': 'display',\n",
       "      'lat': 35.693306,\n",
       "      'lng': 139.703668}],\n",
       "    'distance': 50,\n",
       "    'postalCode': '160-0021',\n",
       "    'cc': 'JP',\n",
       "    'city': '新宿区',\n",
       "    'state': '東京都',\n",
       "    'country': '日本',\n",
       "    'formattedAddress': ['歌舞伎町1-2-1 (ナインティー新宿ビル B1F)',\n",
       "     '新宿区, 東京都',\n",
       "     '160-0021',\n",
       "     '日本']},\n",
       "   'categories': [{'id': '56aa371ce4b08b9a8d57356c',\n",
       "     'name': 'Beer Bar',\n",
       "     'pluralName': 'Beer Bars',\n",
       "     'shortName': 'Beer Bar',\n",
       "     'icon': {'prefix': 'https://ss3.4sqi.net/img/categories_v2/nightlife/pub_',\n",
       "      'suffix': '.png'},\n",
       "     'primary': True}],\n",
       "   'photos': {'count': 0, 'groups': []},\n",
       "   'venuePage': {'id': '43310616'}},\n",
       "  'referralId': 'e-0-4b5d59eaf964a5208b5a29e3-14'},\n",
       " {'reasons': {'count': 0,\n",
       "   'items': [{'summary': 'This spot is popular',\n",
       "     'type': 'general',\n",
       "     'reasonName': 'globalInteractionReason'}]},\n",
       "  'venue': {'id': '4dcfc214c65bdac71382268b',\n",
       "   'name': 'BAR たちばな診察室',\n",
       "   'location': {'address': '歌舞伎町1-1-8',\n",
       "    'crossStreet': 'あかるい花園三番街 2F',\n",
       "    'lat': 35.693976,\n",
       "    'lng': 139.704659,\n",
       "    'labeledLatLngs': [{'label': 'display',\n",
       "      'lat': 35.693976,\n",
       "      'lng': 139.704659}],\n",
       "    'distance': 95,\n",
       "    'postalCode': '160-0021',\n",
       "    'cc': 'JP',\n",
       "    'city': '新宿区',\n",
       "    'state': '東京都',\n",
       "    'country': '日本',\n",
       "    'formattedAddress': ['歌舞伎町1-1-8 (あかるい花園三番街 2F)',\n",
       "     '新宿区, 東京都',\n",
       "     '160-0021',\n",
       "     '日本']},\n",
       "   'categories': [{'id': '4bf58dd8d48988d116941735',\n",
       "     'name': 'Bar',\n",
       "     'pluralName': 'Bars',\n",
       "     'shortName': 'Bar',\n",
       "     'icon': {'prefix': 'https://ss3.4sqi.net/img/categories_v2/nightlife/pub_',\n",
       "      'suffix': '.png'},\n",
       "     'primary': True}],\n",
       "   'photos': {'count': 0, 'groups': []}},\n",
       "  'referralId': 'e-0-4dcfc214c65bdac71382268b-15'},\n",
       " {'reasons': {'count': 0,\n",
       "   'items': [{'summary': 'This spot is popular',\n",
       "     'type': 'general',\n",
       "     'reasonName': 'globalInteractionReason'}]},\n",
       "  'venue': {'id': '4b6c0ccbf964a5205b212ce3',\n",
       "   'name': '蔵元居酒屋 清龍',\n",
       "   'location': {'address': '歌舞伎町1-2-7',\n",
       "    'lat': 35.69401265485262,\n",
       "    'lng': 139.7039702085211,\n",
       "    'labeledLatLngs': [{'label': 'display',\n",
       "      'lat': 35.69401265485262,\n",
       "      'lng': 139.7039702085211}],\n",
       "    'distance': 41,\n",
       "    'postalCode': '160-0021',\n",
       "    'cc': 'JP',\n",
       "    'city': '新宿区',\n",
       "    'state': '東京都',\n",
       "    'country': '日本',\n",
       "    'formattedAddress': ['歌舞伎町1-2-7', '新宿区, 東京都', '160-0021', '日本']},\n",
       "   'categories': [{'id': '4bf58dd8d48988d11c941735',\n",
       "     'name': 'Sake Bar',\n",
       "     'pluralName': 'Sake Bars',\n",
       "     'shortName': 'Sake Bar',\n",
       "     'icon': {'prefix': 'https://ss3.4sqi.net/img/categories_v2/nightlife/sake_',\n",
       "      'suffix': '.png'},\n",
       "     'primary': True}],\n",
       "   'photos': {'count': 0, 'groups': []}},\n",
       "  'referralId': 'e-0-4b6c0ccbf964a5205b212ce3-16'},\n",
       " {'reasons': {'count': 0,\n",
       "   'items': [{'summary': 'This spot is popular',\n",
       "     'type': 'general',\n",
       "     'reasonName': 'globalInteractionReason'}]},\n",
       "  'venue': {'id': '57ef5b75498ee073f2e151a1',\n",
       "   'name': '新宿ピカデリー シアター1',\n",
       "   'location': {'address': '新宿3-15-15',\n",
       "    'lat': 35.69295361237963,\n",
       "    'lng': 139.7038500678464,\n",
       "    'labeledLatLngs': [{'label': 'display',\n",
       "      'lat': 35.69295361237963,\n",
       "      'lng': 139.7038500678464}],\n",
       "    'distance': 92,\n",
       "    'postalCode': '160-0022',\n",
       "    'cc': 'JP',\n",
       "    'city': '新宿区',\n",
       "    'state': '東京都',\n",
       "    'country': '日本',\n",
       "    'formattedAddress': ['新宿3-15-15', '新宿区, 東京都', '160-0022', '日本']},\n",
       "   'categories': [{'id': '4bf58dd8d48988d180941735',\n",
       "     'name': 'Multiplex',\n",
       "     'pluralName': 'Multiplexes',\n",
       "     'shortName': 'Cineplex',\n",
       "     'icon': {'prefix': 'https://ss3.4sqi.net/img/categories_v2/arts_entertainment/movietheater_',\n",
       "      'suffix': '.png'},\n",
       "     'primary': True}],\n",
       "   'photos': {'count': 0, 'groups': []}},\n",
       "  'referralId': 'e-0-57ef5b75498ee073f2e151a1-17'},\n",
       " {'reasons': {'count': 0,\n",
       "   'items': [{'summary': 'This spot is popular',\n",
       "     'type': 'general',\n",
       "     'reasonName': 'globalInteractionReason'}]},\n",
       "  'venue': {'id': '5489868d498ed979671af46d',\n",
       "   'name': 'Torikizoku (鳥貴族 新宿区役所通り店)',\n",
       "   'location': {'address': '歌舞伎町1-2-3',\n",
       "    'crossStreet': 'レオ新宿ビル B1F',\n",
       "    'lat': 35.6935862784137,\n",
       "    'lng': 139.70365593065446,\n",
       "    'labeledLatLngs': [{'label': 'display',\n",
       "      'lat': 35.6935862784137,\n",
       "      'lng': 139.70365593065446}],\n",
       "    'distance': 19,\n",
       "    'postalCode': '160-0021',\n",
       "    'cc': 'JP',\n",
       "    'city': '東京',\n",
       "    'state': '東京都',\n",
       "    'country': '日本',\n",
       "    'formattedAddress': ['歌舞伎町1-2-3 (レオ新宿ビル B1F)',\n",
       "     '新宿区, 東京都',\n",
       "     '160-0021',\n",
       "     '日本']},\n",
       "   'categories': [{'id': '4bf58dd8d48988d11c941735',\n",
       "     'name': 'Sake Bar',\n",
       "     'pluralName': 'Sake Bars',\n",
       "     'shortName': 'Sake Bar',\n",
       "     'icon': {'prefix': 'https://ss3.4sqi.net/img/categories_v2/nightlife/sake_',\n",
       "      'suffix': '.png'},\n",
       "     'primary': True}],\n",
       "   'photos': {'count': 0, 'groups': []}},\n",
       "  'referralId': 'e-0-5489868d498ed979671af46d-18'},\n",
       " {'reasons': {'count': 0,\n",
       "   'items': [{'summary': 'This spot is popular',\n",
       "     'type': 'general',\n",
       "     'reasonName': 'globalInteractionReason'}]},\n",
       "  'venue': {'id': '4b6a7d5bf964a520afd62be3',\n",
       "   'name': 'アクアフォレスト 新宿店',\n",
       "   'location': {'address': '歌舞伎町1-1',\n",
       "    'crossStreet': '新宿サブナード3丁目',\n",
       "    'lat': 35.69330125988236,\n",
       "    'lng': 139.7030432560796,\n",
       "    'labeledLatLngs': [{'label': 'display',\n",
       "      'lat': 35.69330125988236,\n",
       "      'lng': 139.7030432560796}],\n",
       "    'distance': 74,\n",
       "    'postalCode': '160-0021',\n",
       "    'cc': 'JP',\n",
       "    'city': '東京',\n",
       "    'state': '東京都',\n",
       "    'country': '日本',\n",
       "    'formattedAddress': ['歌舞伎町1-1 (新宿サブナード3丁目)',\n",
       "     '新宿区, 東京都',\n",
       "     '160-0021',\n",
       "     '日本']},\n",
       "   'categories': [{'id': '4bf58dd8d48988d100951735',\n",
       "     'name': 'Pet Store',\n",
       "     'pluralName': 'Pet Stores',\n",
       "     'shortName': 'Pet Store',\n",
       "     'icon': {'prefix': 'https://ss3.4sqi.net/img/categories_v2/shops/pet_store_',\n",
       "      'suffix': '.png'},\n",
       "     'primary': True}],\n",
       "   'photos': {'count': 0, 'groups': []}},\n",
       "  'referralId': 'e-0-4b6a7d5bf964a520afd62be3-19'}]"
      ]
     },
     "execution_count": 20,
     "metadata": {},
     "output_type": "execute_result"
    }
   ],
   "source": [
    "import requests\n",
    "results = requests.get(url_Shinjuku).json()\n",
    "results[\"response\"]['groups'][0]['items']"
   ]
  },
  {
   "cell_type": "code",
   "execution_count": 21,
   "metadata": {},
   "outputs": [
    {
     "name": "stdout",
     "output_type": "stream",
     "text": [
      "Bar\n",
      "Jazz Club\n",
      "Soba Restaurant\n",
      "Japanese Restaurant\n",
      "BBQ Joint\n",
      "Ramen Restaurant\n",
      "Pub\n",
      "Rock Club\n",
      "Bar\n",
      "Bar\n",
      "BBQ Joint\n",
      "Bar\n",
      "Yakitori Restaurant\n",
      "Chinese Restaurant\n",
      "Beer Bar\n",
      "Bar\n",
      "Sake Bar\n",
      "Multiplex\n",
      "Sake Bar\n",
      "Pet Store\n"
     ]
    }
   ],
   "source": [
    "#venues in 100m of Shinjuku\n",
    "for row in results[\"response\"]['groups'][0]['items']:\n",
    "    print(row['venue']['categories'][0]['name'])"
   ]
  },
  {
   "cell_type": "markdown",
   "metadata": {},
   "source": [
    "### There are no cafes in a 100m of Shinjuku. This means that the cafe would likely do good since it would be unique to the area!"
   ]
  },
  {
   "cell_type": "markdown",
   "metadata": {},
   "source": [
    "## Methodology"
   ]
  },
  {
   "cell_type": "markdown",
   "metadata": {},
   "source": [
    "In this report, I was able to find the most populated cities and then from there find out which ones were the most expensive. The ones that are more expensive can be an advantage or disadvantage depending on if more people go to the cafe because there or more people, or if the building is too expensive to up keep. We used scrapping data and forming tables in order to best understand the data. \n",
    "\n",
    "We choose to use Shinjuku because it has the lowest price and the largest population. We then looked at the venues in 100m of Sinjuku using FourSquare API. There were no cafe venues. "
   ]
  },
  {
   "cell_type": "markdown",
   "metadata": {},
   "source": [
    "## Results/Discussion"
   ]
  },
  {
   "cell_type": "markdown",
   "metadata": {},
   "source": [
    "I observed that there isn't not an apparent trend between population size, price or area.\n",
    "\n",
    "Shinjuku has the lowest price and the largest population. However, it has the second largest area which means not as many people might come to their shop. \n",
    "The results show that Chuo has the highest price but the smallest area and the second to lowest population. Because of that I would not recommend moving to Chuo because the cafe would likely not do well. \n",
    "\n",
    "Shinjuku has the lowest price and the second highest population. Another advantage is Shinjuku has no cafe venues. I would recommend opening a cafe there because of its reasonable price and the large population and lack of close competing companies. "
   ]
  },
  {
   "cell_type": "markdown",
   "metadata": {},
   "source": [
    "## Conclusion "
   ]
  },
  {
   "cell_type": "markdown",
   "metadata": {},
   "source": [
    "In conclusion, according to the found data, I would recommend opening a cafe in Shinjuku. It has the lowest price along with the second to highest population. This means that there are more people in the area and your rent will be much lower. This could allow you to make the choices of making your drinks cheaper in order to try and get more customers and make even more of a profit."
   ]
  },
  {
   "cell_type": "code",
   "execution_count": null,
   "metadata": {},
   "outputs": [],
   "source": []
  }
 ],
 "metadata": {
  "kernelspec": {
   "display_name": "Python 3.6",
   "language": "python",
   "name": "python3"
  },
  "language_info": {
   "codemirror_mode": {
    "name": "ipython",
    "version": 3
   },
   "file_extension": ".py",
   "mimetype": "text/x-python",
   "name": "python",
   "nbconvert_exporter": "python",
   "pygments_lexer": "ipython3",
   "version": "3.6.8"
  }
 },
 "nbformat": 4,
 "nbformat_minor": 1
}
