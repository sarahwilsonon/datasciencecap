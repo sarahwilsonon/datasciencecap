{
 "cells": [
  {
   "cell_type": "markdown",
   "metadata": {
    "collapsed": true
   },
   "source": [
    "# Introduction/Business Problem"
   ]
  },
  {
   "cell_type": "markdown",
   "metadata": {},
   "source": [
    "## Problem Statement\n",
    "Tokyo is a city that is booming with people and prospective businesses. There are a lot of workers, tourists and residents who need to eat in the top 5 busiest neighbourhoods in Toyko. It would make sense for a restaurant to open, but we want to know where would be the best neighborhood to open a restaurant through understanding benefits and hinderance of opening a restaurant in these neighborhoods.\n",
    "\n",
    "By looking at busy times during the lunch rush specifically, many people will be wanting to get a decently priced lunch that tastes good. A good profit for a restaurant to make would be about a 20% or above profit. We will be analyzing data from Foursquare and other sources to find which neighbourhood would be the best for the restaurant business."
   ]
  },
  {
   "cell_type": "markdown",
   "metadata": {},
   "source": [
    "## Target Audience "
   ]
  },
  {
   "cell_type": "markdown",
   "metadata": {},
   "source": [
    "People who would be interested in understanding the results from our analysis include people who would like to open a restaurant, tourists, office workers, locals or students in the area. These people will get the most benefit from this data. Business owners will get the most money and understand the pros or cons of the area and customers will be able to have a new restaurant that is close to them."
   ]
  },
  {
   "cell_type": "markdown",
   "metadata": {},
   "source": [
    "# Data"
   ]
  },
  {
   "cell_type": "markdown",
   "metadata": {},
   "source": [
    "This data is used in order to find the top 5 cities with their relating population and area. From there we can continue to week 2 and find out more information."
   ]
  },
  {
   "cell_type": "code",
   "execution_count": 3,
   "metadata": {},
   "outputs": [
    {
     "name": "stdout",
     "output_type": "stream",
     "text": [
      "  No.      Name  Population(as of October 2016  Area(km2)  \\\n",
      "0  01   Chiyoda                          59441      11.66   \n",
      "1  02      Chūō                         147620      10.21   \n",
      "2  03    Minato                         248071      20.37   \n",
      "3  04  Shinjuku                         339211      18.22   \n",
      "4  05    Bunkyō                         223389      11.29   \n",
      "\n",
      "                                     Major districts  \n",
      "0  Nagatachō, Kasumigaseki, Ōtemachi, Marunouchi,...  \n",
      "1  Nihonbashi, Kayabachō, Ginza, Tsukiji, Hatchōb...  \n",
      "2  Odaiba, Shinbashi, Hamamatsuchō, Mita, Roppong...  \n",
      "3  Shinjuku, Takadanobaba, Ōkubo, Kagurazaka, Ich...  \n",
      "4                              Hongō, Yayoi, Hakusan  \n"
     ]
    }
   ],
   "source": [
    "import requests\n",
    "from bs4 import BeautifulSoup\n",
    "import pandas as pd\n",
    "import numpy as np\n",
    "\n",
    "df_wiki=pd.read_html('https://en.wikipedia.org/wiki/Special_wards_of_Tokyo')[3]\n",
    "dfwiki=df_wiki.drop(columns=['Flag','Kanji','Density(/km2)'],axis=1)\n",
    "dfwik=dfwiki.iloc[0:5]\n",
    "print(dfwik)"
   ]
  },
  {
   "cell_type": "code",
   "execution_count": null,
   "metadata": {},
   "outputs": [],
   "source": []
  }
 ],
 "metadata": {
  "kernelspec": {
   "display_name": "Python 3.6",
   "language": "python",
   "name": "python3"
  },
  "language_info": {
   "codemirror_mode": {
    "name": "ipython",
    "version": 3
   },
   "file_extension": ".py",
   "mimetype": "text/x-python",
   "name": "python",
   "nbconvert_exporter": "python",
   "pygments_lexer": "ipython3",
   "version": "3.6.8"
  }
 },
 "nbformat": 4,
 "nbformat_minor": 1
}
