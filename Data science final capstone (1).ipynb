{
 "cells": [
  {
   "cell_type": "markdown",
   "metadata": {
    "collapsed": true
   },
   "source": [
    "# Introduction/Business Problem"
   ]
  },
  {
   "cell_type": "markdown",
   "metadata": {},
   "source": [
    "## Problem Statement\n",
    "Tokyo is a city that is booming with people and prospective businesses. There are a lot of workers, tourists and residents who need to eat in the top 5 busiest neighbourhoods in Toyko. It would make sense for a cafe to open, but we want to know where would be the best neighborhood to open a restaurant through understanding benefits and hinderance of opening a restaurant in these neighborhoods.\n",
    "\n",
    "We will be looking specifically at how much the place would cost to determine if it is a good location.  A good profit for a cafe to make would be about a 20% or above profit. "
   ]
  },
  {
   "cell_type": "markdown",
   "metadata": {},
   "source": [
    "## Target Audience "
   ]
  },
  {
   "cell_type": "markdown",
   "metadata": {},
   "source": [
    "People who would be interested in understanding the results from our analysis include people who would like to open a cafe, tourists, office workers, locals or students in the area. These people will get the most benefit from this data. Business owners will get the most money and understand the pros or cons of the area and customers will be able to have a new cafe that is close to them."
   ]
  },
  {
   "cell_type": "markdown",
   "metadata": {},
   "source": [
    "# Data"
   ]
  },
  {
   "cell_type": "markdown",
   "metadata": {},
   "source": [
    "This data is used in order to find the top 5 cities with their relating population and area. From there we can continue to week 2 and find out more information. The source of this data is from wikipedia. "
   ]
  },
  {
   "cell_type": "code",
   "execution_count": 154,
   "metadata": {},
   "outputs": [
    {
     "name": "stdout",
     "output_type": "stream",
     "text": [
      "Requirement already satisfied: folium in /opt/conda/envs/Python36/lib/python3.6/site-packages (0.10.0)\n",
      "Requirement already satisfied: requests in /opt/conda/envs/Python36/lib/python3.6/site-packages (from folium) (2.21.0)\n",
      "Requirement already satisfied: numpy in /opt/conda/envs/Python36/lib/python3.6/site-packages (from folium) (1.15.4)\n",
      "Requirement already satisfied: jinja2>=2.9 in /opt/conda/envs/Python36/lib/python3.6/site-packages (from folium) (2.10)\n",
      "Requirement already satisfied: branca>=0.3.0 in /opt/conda/envs/Python36/lib/python3.6/site-packages (from folium) (0.3.1)\n",
      "Requirement already satisfied: urllib3<1.25,>=1.21.1 in /opt/conda/envs/Python36/lib/python3.6/site-packages (from requests->folium) (1.24.1)\n",
      "Requirement already satisfied: chardet<3.1.0,>=3.0.2 in /opt/conda/envs/Python36/lib/python3.6/site-packages (from requests->folium) (3.0.4)\n",
      "Requirement already satisfied: idna<2.9,>=2.5 in /opt/conda/envs/Python36/lib/python3.6/site-packages (from requests->folium) (2.8)\n",
      "Requirement already satisfied: certifi>=2017.4.17 in /opt/conda/envs/Python36/lib/python3.6/site-packages (from requests->folium) (2019.6.16)\n",
      "Requirement already satisfied: MarkupSafe>=0.23 in /opt/conda/envs/Python36/lib/python3.6/site-packages (from jinja2>=2.9->folium) (1.1.0)\n",
      "Requirement already satisfied: six in /opt/conda/envs/Python36/lib/python3.6/site-packages (from branca>=0.3.0->folium) (1.12.0)\n"
     ]
    }
   ],
   "source": [
    "import requests\n",
    "from bs4 import BeautifulSoup\n",
    "import pandas as pd\n",
    "import numpy as np\n",
    "import json\n",
    "from pandas.io.json import json_normalize\n",
    "\n",
    "!pip install folium\n",
    "import folium\n",
    "from geopy.geocoders import Nominatim\n",
    "import requests"
   ]
  },
  {
   "cell_type": "code",
   "execution_count": 28,
   "metadata": {},
   "outputs": [
    {
     "name": "stdout",
     "output_type": "stream",
     "text": [
      "Requirement already satisfied: geopy in /opt/conda/envs/Python36/lib/python3.6/site-packages (1.18.1)\n",
      "Requirement already satisfied: geographiclib<2,>=1.49 in /opt/conda/envs/Python36/lib/python3.6/site-packages (from geopy) (1.49)\n"
     ]
    }
   ],
   "source": [
    "!pip install geopy"
   ]
  },
  {
   "cell_type": "markdown",
   "metadata": {},
   "source": [
    "### Scraping wiki cities"
   ]
  },
  {
   "cell_type": "code",
   "execution_count": 102,
   "metadata": {},
   "outputs": [
    {
     "name": "stdout",
     "output_type": "stream",
     "text": [
      "       Name  Population(as of October 2016  Area(km2)\n",
      "0   Chiyoda                          59441      11.66\n",
      "1      Chūō                         147620      10.21\n",
      "2    Minato                         248071      20.37\n",
      "3  Shinjuku                         339211      18.22\n",
      "4    Bunkyō                         223389      11.29\n"
     ]
    }
   ],
   "source": [
    "df_wiki=pd.read_html('https://en.wikipedia.org/wiki/Special_wards_of_Tokyo')[3]\n",
    "dfwiki=df_wiki.drop(columns=['No.','Flag','Kanji','Density(/km2)','Major districts'],axis=1)\n",
    "dfwik=dfwiki.iloc[0:5]\n",
    "print(dfwik)"
   ]
  },
  {
   "cell_type": "code",
   "execution_count": 8,
   "metadata": {
    "scrolled": true
   },
   "outputs": [
    {
     "name": "stdout",
     "output_type": "stream",
     "text": [
      "Collecting googlemaps\n",
      "  Downloading https://files.pythonhosted.org/packages/e8/0c/5f84b84b1b73c4710fe0b9fa062f5afe873013c7a2f2141127fd1939359c/googlemaps-3.1.1-py3-none-any.whl\n",
      "Requirement already satisfied, skipping upgrade: requests<3.0,>=2.20.0 in /opt/conda/envs/Python36/lib/python3.6/site-packages (from googlemaps) (2.21.0)\n",
      "Requirement already satisfied, skipping upgrade: idna<2.9,>=2.5 in /opt/conda/envs/Python36/lib/python3.6/site-packages (from requests<3.0,>=2.20.0->googlemaps) (2.8)\n",
      "Requirement already satisfied, skipping upgrade: chardet<3.1.0,>=3.0.2 in /opt/conda/envs/Python36/lib/python3.6/site-packages (from requests<3.0,>=2.20.0->googlemaps) (3.0.4)\n",
      "Requirement already satisfied, skipping upgrade: urllib3<1.25,>=1.21.1 in /opt/conda/envs/Python36/lib/python3.6/site-packages (from requests<3.0,>=2.20.0->googlemaps) (1.24.1)\n",
      "Requirement already satisfied, skipping upgrade: certifi>=2017.4.17 in /opt/conda/envs/Python36/lib/python3.6/site-packages (from requests<3.0,>=2.20.0->googlemaps) (2019.6.16)\n",
      "Installing collected packages: googlemaps\n",
      "Successfully installed googlemaps-3.1.1\n"
     ]
    }
   ],
   "source": [
    "! pip install -U googlemaps"
   ]
  },
  {
   "cell_type": "markdown",
   "metadata": {},
   "source": [
    "### Finding latitude and longitude of cities."
   ]
  },
  {
   "cell_type": "code",
   "execution_count": 30,
   "metadata": {},
   "outputs": [
    {
     "name": "stdout",
     "output_type": "stream",
     "text": [
      "(35.6938097, 139.7532163)\n"
     ]
    }
   ],
   "source": [
    "from geopy.geocoders import Nominatim\n",
    "geolocator = Nominatim(user_agent=\"python\")\n",
    "location = geolocator.geocode(\"Chiyoda\")\n",
    "print((location.latitude, location.longitude))"
   ]
  },
  {
   "cell_type": "code",
   "execution_count": 31,
   "metadata": {},
   "outputs": [
    {
     "name": "stdout",
     "output_type": "stream",
     "text": [
      "(35.666255, 139.775565)\n"
     ]
    }
   ],
   "source": [
    "from geopy.geocoders import Nominatim\n",
    "geolocator = Nominatim(user_agent=\"python\")\n",
    "location = geolocator.geocode(\"Chūō\")\n",
    "print((location.latitude, location.longitude))"
   ]
  },
  {
   "cell_type": "code",
   "execution_count": 33,
   "metadata": {},
   "outputs": [
    {
     "name": "stdout",
     "output_type": "stream",
     "text": [
      "(35.6432274, 139.7400553)\n"
     ]
    }
   ],
   "source": [
    "from geopy.geocoders import Nominatim\n",
    "geolocator = Nominatim(user_agent=\"python\")\n",
    "location = geolocator.geocode(\"Minato\")\n",
    "print((location.latitude, location.longitude))"
   ]
  },
  {
   "cell_type": "code",
   "execution_count": 34,
   "metadata": {},
   "outputs": [
    {
     "name": "stdout",
     "output_type": "stream",
     "text": [
      "(35.6937632, 139.7036319)\n"
     ]
    }
   ],
   "source": [
    "from geopy.geocoders import Nominatim\n",
    "geolocator = Nominatim(user_agent=\"python\")\n",
    "location = geolocator.geocode(\"Shinjuku\")\n",
    "print((location.latitude, location.longitude))"
   ]
  },
  {
   "cell_type": "code",
   "execution_count": 35,
   "metadata": {},
   "outputs": [
    {
     "name": "stdout",
     "output_type": "stream",
     "text": [
      "(35.71881, 139.744732)\n"
     ]
    }
   ],
   "source": [
    "from geopy.geocoders import Nominatim\n",
    "geolocator = Nominatim(user_agent=\"python\")\n",
    "location = geolocator.geocode(\"Bunkyō\")\n",
    "print((location.latitude, location.longitude))"
   ]
  },
  {
   "cell_type": "markdown",
   "metadata": {},
   "source": [
    "### Table of cities, lat and long."
   ]
  },
  {
   "cell_type": "code",
   "execution_count": 79,
   "metadata": {},
   "outputs": [
    {
     "data": {
      "text/html": [
       "<div>\n",
       "<style scoped>\n",
       "    .dataframe tbody tr th:only-of-type {\n",
       "        vertical-align: middle;\n",
       "    }\n",
       "\n",
       "    .dataframe tbody tr th {\n",
       "        vertical-align: top;\n",
       "    }\n",
       "\n",
       "    .dataframe thead th {\n",
       "        text-align: right;\n",
       "    }\n",
       "</style>\n",
       "<table border=\"1\" class=\"dataframe\">\n",
       "  <thead>\n",
       "    <tr style=\"text-align: right;\">\n",
       "      <th></th>\n",
       "      <th>Name</th>\n",
       "      <th>Latitude</th>\n",
       "      <th>Longitude</th>\n",
       "    </tr>\n",
       "  </thead>\n",
       "  <tbody>\n",
       "    <tr>\n",
       "      <th>0</th>\n",
       "      <td>Chiyoda</td>\n",
       "      <td>35.6938097</td>\n",
       "      <td>139.7532163</td>\n",
       "    </tr>\n",
       "    <tr>\n",
       "      <th>1</th>\n",
       "      <td>Chūō</td>\n",
       "      <td>35.666255</td>\n",
       "      <td>139.775565</td>\n",
       "    </tr>\n",
       "    <tr>\n",
       "      <th>2</th>\n",
       "      <td>Minato</td>\n",
       "      <td>35.6432274</td>\n",
       "      <td>139.7400553</td>\n",
       "    </tr>\n",
       "    <tr>\n",
       "      <th>3</th>\n",
       "      <td>Shinjuku</td>\n",
       "      <td>35.6937632</td>\n",
       "      <td>139.7036319</td>\n",
       "    </tr>\n",
       "    <tr>\n",
       "      <th>4</th>\n",
       "      <td>Bunkyō</td>\n",
       "      <td>35.71881</td>\n",
       "      <td>139.744732</td>\n",
       "    </tr>\n",
       "  </tbody>\n",
       "</table>\n",
       "</div>"
      ],
      "text/plain": [
       "       Name    Latitude    Longitude\n",
       "0   Chiyoda  35.6938097  139.7532163\n",
       "1      Chūō   35.666255   139.775565\n",
       "2    Minato  35.6432274  139.7400553\n",
       "3  Shinjuku  35.6937632  139.7036319\n",
       "4    Bunkyō    35.71881   139.744732"
      ]
     },
     "execution_count": 79,
     "metadata": {},
     "output_type": "execute_result"
    }
   ],
   "source": [
    "from pandas import DataFrame\n",
    "dfmap={'Name':['Chiyoda','Chūō','Minato','Shinjuku','Bunkyō'],'Latitude': ['35.6938097','35.666255','35.6432274','35.6937632','35.71881'],'Longitude':['139.7532163','139.775565','139.7400553','139.7036319','139.744732']}\n",
    "df=DataFrame(dfmap,columns=['Name','Latitude','Longitude'])\n",
    "df"
   ]
  },
  {
   "cell_type": "code",
   "execution_count": 150,
   "metadata": {},
   "outputs": [
    {
     "data": {
      "text/html": [
       "<div>\n",
       "<style scoped>\n",
       "    .dataframe tbody tr th:only-of-type {\n",
       "        vertical-align: middle;\n",
       "    }\n",
       "\n",
       "    .dataframe tbody tr th {\n",
       "        vertical-align: top;\n",
       "    }\n",
       "\n",
       "    .dataframe thead th {\n",
       "        text-align: right;\n",
       "    }\n",
       "</style>\n",
       "<table border=\"1\" class=\"dataframe\">\n",
       "  <thead>\n",
       "    <tr style=\"text-align: right;\">\n",
       "      <th></th>\n",
       "      <th>Name</th>\n",
       "      <th>Population(as of October 2016</th>\n",
       "      <th>Area(km2)</th>\n",
       "      <th>Latitude</th>\n",
       "      <th>Longitude</th>\n",
       "    </tr>\n",
       "  </thead>\n",
       "  <tbody>\n",
       "    <tr>\n",
       "      <th>0</th>\n",
       "      <td>Chiyoda</td>\n",
       "      <td>59441</td>\n",
       "      <td>11.66</td>\n",
       "      <td>35.6938097</td>\n",
       "      <td>139.7532163</td>\n",
       "    </tr>\n",
       "    <tr>\n",
       "      <th>1</th>\n",
       "      <td>Chūō</td>\n",
       "      <td>147620</td>\n",
       "      <td>10.21</td>\n",
       "      <td>35.666255</td>\n",
       "      <td>139.775565</td>\n",
       "    </tr>\n",
       "    <tr>\n",
       "      <th>2</th>\n",
       "      <td>Minato</td>\n",
       "      <td>248071</td>\n",
       "      <td>20.37</td>\n",
       "      <td>35.6432274</td>\n",
       "      <td>139.7400553</td>\n",
       "    </tr>\n",
       "    <tr>\n",
       "      <th>3</th>\n",
       "      <td>Shinjuku</td>\n",
       "      <td>339211</td>\n",
       "      <td>18.22</td>\n",
       "      <td>35.6937632</td>\n",
       "      <td>139.7036319</td>\n",
       "    </tr>\n",
       "    <tr>\n",
       "      <th>4</th>\n",
       "      <td>Bunkyō</td>\n",
       "      <td>223389</td>\n",
       "      <td>11.29</td>\n",
       "      <td>35.71881</td>\n",
       "      <td>139.744732</td>\n",
       "    </tr>\n",
       "  </tbody>\n",
       "</table>\n",
       "</div>"
      ],
      "text/plain": [
       "       Name  Population(as of October 2016  Area(km2)    Latitude    Longitude\n",
       "0   Chiyoda                          59441      11.66  35.6938097  139.7532163\n",
       "1      Chūō                         147620      10.21   35.666255   139.775565\n",
       "2    Minato                         248071      20.37  35.6432274  139.7400553\n",
       "3  Shinjuku                         339211      18.22  35.6937632  139.7036319\n",
       "4    Bunkyō                         223389      11.29    35.71881   139.744732"
      ]
     },
     "execution_count": 150,
     "metadata": {},
     "output_type": "execute_result"
    }
   ],
   "source": [
    "dftotal =pd.merge(dfwik, df, on='Name',how='outer')\n",
    "dftotal"
   ]
  },
  {
   "cell_type": "code",
   "execution_count": 67,
   "metadata": {},
   "outputs": [
    {
     "data": {
      "text/plain": [
       "'dfwik'"
      ]
     },
     "metadata": {},
     "output_type": "display_data"
    },
    {
     "data": {
      "text/plain": [
       "'df'"
      ]
     },
     "metadata": {},
     "output_type": "display_data"
    },
    {
     "data": {
      "text/plain": [
       "\"pd.merge(dfwik, df, left_on='Name',right_on='Latitude')\""
      ]
     },
     "metadata": {},
     "output_type": "display_data"
    }
   ],
   "source": [
    "display('dfwik','df',\"pd.merge(dfwik, df, left_on='Name',right_on='Latitude')\")"
   ]
  },
  {
   "cell_type": "markdown",
   "metadata": {},
   "source": [
    "### Scrapping land price values"
   ]
  },
  {
   "cell_type": "code",
   "execution_count": 104,
   "metadata": {},
   "outputs": [
    {
     "name": "stdout",
     "output_type": "stream",
     "text": [
      "          Area  Average Unit Price\n",
      "0   Chiyoda-Ku  1,827,610 JPY/sq.m\n",
      "1      Chuo-Ku  3,222,564 JPY/sq.m\n",
      "2    Minato-Ku  2,253,006 JPY/sq.m\n",
      "3  Shinjuku-Ku    915,879 JPY/sq.m\n",
      "4    Bunkyo-Ku    957,330 JPY/sq.m\n"
     ]
    }
   ],
   "source": [
    "df_land=pd.read_html('https://utinokati.com/en/details/land-market-value/area/Tokyo/')[0]\n",
    "dfland=df_land.drop(columns=['Average Trading Price'],axis=1)\n",
    "dfland=dfland.iloc[0:5]\n",
    "print(dfland)\n"
   ]
  },
  {
   "cell_type": "code",
   "execution_count": 131,
   "metadata": {},
   "outputs": [
    {
     "data": {
      "text/html": [
       "<div>\n",
       "<style scoped>\n",
       "    .dataframe tbody tr th:only-of-type {\n",
       "        vertical-align: middle;\n",
       "    }\n",
       "\n",
       "    .dataframe tbody tr th {\n",
       "        vertical-align: top;\n",
       "    }\n",
       "\n",
       "    .dataframe thead th {\n",
       "        text-align: right;\n",
       "    }\n",
       "</style>\n",
       "<table border=\"1\" class=\"dataframe\">\n",
       "  <thead>\n",
       "    <tr style=\"text-align: right;\">\n",
       "      <th></th>\n",
       "      <th>Name</th>\n",
       "      <th>Population(as of October 2016</th>\n",
       "      <th>Area(km2)</th>\n",
       "      <th>Latitude</th>\n",
       "      <th>Longitude</th>\n",
       "      <th>Average Prices</th>\n",
       "      <th>Average Price</th>\n",
       "    </tr>\n",
       "  </thead>\n",
       "  <tbody>\n",
       "    <tr>\n",
       "      <th>0</th>\n",
       "      <td>Chiyoda</td>\n",
       "      <td>59441</td>\n",
       "      <td>11.66</td>\n",
       "      <td>35.6938097</td>\n",
       "      <td>139.7532163</td>\n",
       "      <td>1,827,610 JPY/sq.m</td>\n",
       "      <td>1,827,610 JPY/sq.m</td>\n",
       "    </tr>\n",
       "    <tr>\n",
       "      <th>1</th>\n",
       "      <td>Chūō</td>\n",
       "      <td>147620</td>\n",
       "      <td>10.21</td>\n",
       "      <td>35.666255</td>\n",
       "      <td>139.775565</td>\n",
       "      <td>3,222,564 JPY/sq.m</td>\n",
       "      <td>3,222,564 JPY/sq.m</td>\n",
       "    </tr>\n",
       "    <tr>\n",
       "      <th>2</th>\n",
       "      <td>Minato</td>\n",
       "      <td>248071</td>\n",
       "      <td>20.37</td>\n",
       "      <td>35.6432274</td>\n",
       "      <td>139.7400553</td>\n",
       "      <td>2,253,006 JPY/sq.m</td>\n",
       "      <td>2,253,006 JPY/sq.m</td>\n",
       "    </tr>\n",
       "    <tr>\n",
       "      <th>3</th>\n",
       "      <td>Shinjuku</td>\n",
       "      <td>339211</td>\n",
       "      <td>18.22</td>\n",
       "      <td>35.6937632</td>\n",
       "      <td>139.7036319</td>\n",
       "      <td>915,879 JPY/sq.m</td>\n",
       "      <td>915,879 JPY/sq.m</td>\n",
       "    </tr>\n",
       "    <tr>\n",
       "      <th>4</th>\n",
       "      <td>Bunkyō</td>\n",
       "      <td>223389</td>\n",
       "      <td>11.29</td>\n",
       "      <td>35.71881</td>\n",
       "      <td>139.744732</td>\n",
       "      <td>957,330 JPY/sq.m</td>\n",
       "      <td>957,330 JPY/sq.m</td>\n",
       "    </tr>\n",
       "  </tbody>\n",
       "</table>\n",
       "</div>"
      ],
      "text/plain": [
       "       Name  Population(as of October 2016  Area(km2)    Latitude  \\\n",
       "0   Chiyoda                          59441      11.66  35.6938097   \n",
       "1      Chūō                         147620      10.21   35.666255   \n",
       "2    Minato                         248071      20.37  35.6432274   \n",
       "3  Shinjuku                         339211      18.22  35.6937632   \n",
       "4    Bunkyō                         223389      11.29    35.71881   \n",
       "\n",
       "     Longitude      Average Prices       Average Price  \n",
       "0  139.7532163  1,827,610 JPY/sq.m  1,827,610 JPY/sq.m  \n",
       "1   139.775565  3,222,564 JPY/sq.m  3,222,564 JPY/sq.m  \n",
       "2  139.7400553  2,253,006 JPY/sq.m  2,253,006 JPY/sq.m  \n",
       "3  139.7036319    915,879 JPY/sq.m    915,879 JPY/sq.m  \n",
       "4   139.744732    957,330 JPY/sq.m    957,330 JPY/sq.m  "
      ]
     },
     "execution_count": 131,
     "metadata": {},
     "output_type": "execute_result"
    }
   ],
   "source": [
    "dftotal"
   ]
  },
  {
   "cell_type": "code",
   "execution_count": 141,
   "metadata": {},
   "outputs": [
    {
     "data": {
      "text/html": [
       "<div>\n",
       "<style scoped>\n",
       "    .dataframe tbody tr th:only-of-type {\n",
       "        vertical-align: middle;\n",
       "    }\n",
       "\n",
       "    .dataframe tbody tr th {\n",
       "        vertical-align: top;\n",
       "    }\n",
       "\n",
       "    .dataframe thead th {\n",
       "        text-align: right;\n",
       "    }\n",
       "</style>\n",
       "<table border=\"1\" class=\"dataframe\">\n",
       "  <thead>\n",
       "    <tr style=\"text-align: right;\">\n",
       "      <th></th>\n",
       "      <th>Name</th>\n",
       "      <th>Population(as of October 2016</th>\n",
       "      <th>Area(km2)</th>\n",
       "      <th>Latitude</th>\n",
       "      <th>Longitude</th>\n",
       "      <th>Average Price</th>\n",
       "    </tr>\n",
       "  </thead>\n",
       "  <tbody>\n",
       "    <tr>\n",
       "      <th>4</th>\n",
       "      <td>Bunkyō</td>\n",
       "      <td>223389</td>\n",
       "      <td>11.29</td>\n",
       "      <td>35.71881</td>\n",
       "      <td>139.744732</td>\n",
       "      <td>957,330 JPY/sq.m</td>\n",
       "    </tr>\n",
       "    <tr>\n",
       "      <th>3</th>\n",
       "      <td>Shinjuku</td>\n",
       "      <td>339211</td>\n",
       "      <td>18.22</td>\n",
       "      <td>35.6937632</td>\n",
       "      <td>139.7036319</td>\n",
       "      <td>915,879 JPY/sq.m</td>\n",
       "    </tr>\n",
       "    <tr>\n",
       "      <th>1</th>\n",
       "      <td>Chūō</td>\n",
       "      <td>147620</td>\n",
       "      <td>10.21</td>\n",
       "      <td>35.666255</td>\n",
       "      <td>139.775565</td>\n",
       "      <td>3,222,564 JPY/sq.m</td>\n",
       "    </tr>\n",
       "    <tr>\n",
       "      <th>2</th>\n",
       "      <td>Minato</td>\n",
       "      <td>248071</td>\n",
       "      <td>20.37</td>\n",
       "      <td>35.6432274</td>\n",
       "      <td>139.7400553</td>\n",
       "      <td>2,253,006 JPY/sq.m</td>\n",
       "    </tr>\n",
       "    <tr>\n",
       "      <th>0</th>\n",
       "      <td>Chiyoda</td>\n",
       "      <td>59441</td>\n",
       "      <td>11.66</td>\n",
       "      <td>35.6938097</td>\n",
       "      <td>139.7532163</td>\n",
       "      <td>1,827,610 JPY/sq.m</td>\n",
       "    </tr>\n",
       "  </tbody>\n",
       "</table>\n",
       "</div>"
      ],
      "text/plain": [
       "       Name  Population(as of October 2016  Area(km2)    Latitude  \\\n",
       "4    Bunkyō                         223389      11.29    35.71881   \n",
       "3  Shinjuku                         339211      18.22  35.6937632   \n",
       "1      Chūō                         147620      10.21   35.666255   \n",
       "2    Minato                         248071      20.37  35.6432274   \n",
       "0   Chiyoda                          59441      11.66  35.6938097   \n",
       "\n",
       "     Longitude       Average Price  \n",
       "4   139.744732    957,330 JPY/sq.m  \n",
       "3  139.7036319    915,879 JPY/sq.m  \n",
       "1   139.775565  3,222,564 JPY/sq.m  \n",
       "2  139.7400553  2,253,006 JPY/sq.m  \n",
       "0  139.7532163  1,827,610 JPY/sq.m  "
      ]
     },
     "execution_count": 141,
     "metadata": {},
     "output_type": "execute_result"
    }
   ],
   "source": [
    "dft=dftotal.drop(columns='Average Prices',axis=1)\n",
    "dft"
   ]
  },
  {
   "cell_type": "markdown",
   "metadata": {},
   "source": [
    "## Methodology"
   ]
  },
  {
   "cell_type": "markdown",
   "metadata": {},
   "source": [
    "Methodology section which represents the main component of the report where you discuss and describe any exploratory data analysis that you did, any inferential statistical testing that you performed, if any, and what machine learnings were used and why.\n",
    "In this report, I was able to find the most populated cities and then from there find out which ones were the most expensive. The ones that are more expensive can be an advantage or disadvantage depending on if more people go to the cafe because there or more people, or if the building is too expensive to up keep. We used scrapping data and forming tables in order to best understand the data. "
   ]
  },
  {
   "cell_type": "markdown",
   "metadata": {},
   "source": [
    "## Results/Discussion"
   ]
  },
  {
   "cell_type": "markdown",
   "metadata": {},
   "source": [
    "I observed that there isn't not an apparent trend between population size, price or area.\n",
    "Shinjuku has the lowest price and the largest population. However, it has the second largest area which means not as many people might come to their shop.  The results show that Chuo has the highest price but the smallest area and the second to lowest population. Because of that I would not recommend moving to Chuo because the cafe would likely not do well. \n",
    "Shinjuku has the lowest price and the second highest population. I would recommend opening a cafe there because of its reasonable price and the large population.  "
   ]
  },
  {
   "cell_type": "markdown",
   "metadata": {},
   "source": [
    "## Conclusion "
   ]
  },
  {
   "cell_type": "markdown",
   "metadata": {},
   "source": [
    "In conclusion, according to the found data, I would recommend opening a cafe in Shinjuku. It has the lowest price along with the second to highest population. This means that there are more people in the area and your rent will be much lower. This could allow you to make the choices of making your drinks cheaper in order to try and get more customers and make even more of a profit."
   ]
  },
  {
   "cell_type": "code",
   "execution_count": null,
   "metadata": {},
   "outputs": [],
   "source": []
  }
 ],
 "metadata": {
  "kernelspec": {
   "display_name": "Python 3.6",
   "language": "python",
   "name": "python3"
  },
  "language_info": {
   "codemirror_mode": {
    "name": "ipython",
    "version": 3
   },
   "file_extension": ".py",
   "mimetype": "text/x-python",
   "name": "python",
   "nbconvert_exporter": "python",
   "pygments_lexer": "ipython3",
   "version": "3.6.8"
  }
 },
 "nbformat": 4,
 "nbformat_minor": 1
}
